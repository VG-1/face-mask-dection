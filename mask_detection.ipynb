{
 "cells": [
  {
   "cell_type": "code",
   "execution_count": 1,
   "id": "5b92787e",
   "metadata": {},
   "outputs": [],
   "source": [
    "import cv2\n"
   ]
  },
  {
   "cell_type": "code",
   "execution_count": 2,
   "id": "1f30c556",
   "metadata": {},
   "outputs": [],
   "source": [
    "img = cv2.imread('../Windows/Pictures/kalamsir.jpg')"
   ]
  },
  {
   "cell_type": "code",
   "execution_count": 3,
   "id": "bcf0cd7e",
   "metadata": {},
   "outputs": [
    {
     "data": {
      "text/plain": [
       "(390, 330, 3)"
      ]
     },
     "execution_count": 3,
     "metadata": {},
     "output_type": "execute_result"
    }
   ],
   "source": [
    "img.shape\n"
   ]
  },
  {
   "cell_type": "code",
   "execution_count": 4,
   "id": "203bcf52",
   "metadata": {},
   "outputs": [
    {
     "data": {
      "text/plain": [
       "array([[218, 204, 176],\n",
       "       [218, 204, 176],\n",
       "       [218, 203, 177],\n",
       "       [219, 204, 178],\n",
       "       [219, 203, 180],\n",
       "       [218, 202, 179],\n",
       "       [218, 201, 180],\n",
       "       [218, 201, 180],\n",
       "       [218, 201, 180],\n",
       "       [220, 203, 182],\n",
       "       [220, 204, 181],\n",
       "       [219, 203, 180],\n",
       "       [217, 202, 176],\n",
       "       [216, 201, 175],\n",
       "       [216, 202, 174],\n",
       "       [218, 204, 175],\n",
       "       [223, 207, 178],\n",
       "       [222, 207, 175],\n",
       "       [221, 205, 176],\n",
       "       [221, 205, 176],\n",
       "       [221, 205, 176],\n",
       "       [222, 206, 177],\n",
       "       [223, 207, 178],\n",
       "       [224, 208, 179],\n",
       "       [221, 204, 177],\n",
       "       [223, 206, 179],\n",
       "       [224, 207, 180],\n",
       "       [223, 206, 179],\n",
       "       [220, 203, 177],\n",
       "       [220, 203, 177],\n",
       "       [223, 206, 180],\n",
       "       [226, 209, 183],\n",
       "       [222, 203, 176],\n",
       "       [223, 204, 177],\n",
       "       [224, 205, 178],\n",
       "       [224, 205, 178],\n",
       "       [222, 205, 178],\n",
       "       [221, 204, 177],\n",
       "       [219, 202, 175],\n",
       "       [218, 201, 174],\n",
       "       [215, 198, 171],\n",
       "       [217, 200, 173],\n",
       "       [214, 200, 172],\n",
       "       [212, 198, 170],\n",
       "       [212, 198, 170],\n",
       "       [215, 201, 173],\n",
       "       [215, 201, 173],\n",
       "       [212, 198, 170],\n",
       "       [213, 196, 169],\n",
       "       [216, 199, 172],\n",
       "       [220, 203, 176],\n",
       "       [220, 203, 176],\n",
       "       [214, 200, 171],\n",
       "       [211, 197, 168],\n",
       "       [211, 197, 169],\n",
       "       [212, 198, 170],\n",
       "       [210, 198, 170],\n",
       "       [208, 196, 168],\n",
       "       [208, 194, 171],\n",
       "       [211, 197, 174],\n",
       "       [211, 198, 176],\n",
       "       [209, 196, 174],\n",
       "       [207, 193, 174],\n",
       "       [206, 193, 171],\n",
       "       [211, 200, 173],\n",
       "       [209, 198, 170],\n",
       "       [207, 196, 168],\n",
       "       [206, 195, 167],\n",
       "       [208, 196, 168],\n",
       "       [210, 198, 170],\n",
       "       [211, 199, 171],\n",
       "       [211, 199, 171],\n",
       "       [211, 198, 172],\n",
       "       [207, 194, 168],\n",
       "       [207, 194, 168],\n",
       "       [209, 196, 170],\n",
       "       [208, 197, 170],\n",
       "       [204, 193, 166],\n",
       "       [204, 193, 166],\n",
       "       [208, 197, 170],\n",
       "       [206, 195, 168],\n",
       "       [207, 196, 169],\n",
       "       [208, 196, 172],\n",
       "       [206, 194, 170],\n",
       "       [206, 194, 170],\n",
       "       [207, 195, 171],\n",
       "       [207, 194, 172],\n",
       "       [205, 192, 170],\n",
       "       [203, 190, 168],\n",
       "       [207, 194, 172],\n",
       "       [204, 190, 171],\n",
       "       [200, 186, 167],\n",
       "       [203, 189, 171],\n",
       "       [205, 191, 173],\n",
       "       [205, 191, 173],\n",
       "       [206, 192, 174],\n",
       "       [201, 187, 169],\n",
       "       [201, 187, 169],\n",
       "       [200, 186, 167],\n",
       "       [200, 186, 167],\n",
       "       [197, 186, 164],\n",
       "       [197, 186, 164],\n",
       "       [196, 186, 162],\n",
       "       [196, 186, 162],\n",
       "       [192, 182, 158],\n",
       "       [196, 186, 162],\n",
       "       [198, 187, 165],\n",
       "       [196, 185, 163],\n",
       "       [193, 184, 164],\n",
       "       [196, 187, 167],\n",
       "       [197, 187, 169],\n",
       "       [195, 185, 167],\n",
       "       [190, 181, 161],\n",
       "       [192, 183, 163],\n",
       "       [194, 185, 165],\n",
       "       [195, 186, 166],\n",
       "       [194, 185, 165],\n",
       "       [194, 185, 165],\n",
       "       [196, 185, 165],\n",
       "       [197, 186, 166],\n",
       "       [201, 190, 170],\n",
       "       [192, 181, 161],\n",
       "       [197, 183, 164],\n",
       "       [201, 187, 168],\n",
       "       [195, 181, 162],\n",
       "       [195, 181, 162],\n",
       "       [198, 184, 165],\n",
       "       [192, 180, 162],\n",
       "       [194, 184, 167],\n",
       "       [193, 184, 170],\n",
       "       [195, 185, 168],\n",
       "       [193, 183, 166],\n",
       "       [193, 180, 164],\n",
       "       [192, 179, 163],\n",
       "       [193, 181, 163],\n",
       "       [194, 182, 164],\n",
       "       [193, 179, 161],\n",
       "       [196, 182, 164],\n",
       "       [197, 182, 163],\n",
       "       [194, 179, 160],\n",
       "       [198, 181, 162],\n",
       "       [201, 184, 165],\n",
       "       [199, 182, 161],\n",
       "       [190, 175, 156],\n",
       "       [194, 180, 162],\n",
       "       [192, 179, 163],\n",
       "       [193, 181, 163],\n",
       "       [194, 182, 164],\n",
       "       [192, 180, 162],\n",
       "       [189, 177, 159],\n",
       "       [188, 177, 157],\n",
       "       [190, 179, 159],\n",
       "       [194, 183, 163],\n",
       "       [192, 181, 161],\n",
       "       [192, 180, 162],\n",
       "       [193, 181, 163],\n",
       "       [192, 180, 162],\n",
       "       [189, 177, 159],\n",
       "       [188, 175, 159],\n",
       "       [191, 179, 161],\n",
       "       [192, 181, 161],\n",
       "       [193, 182, 160],\n",
       "       [190, 179, 159],\n",
       "       [190, 179, 159],\n",
       "       [195, 182, 166],\n",
       "       [195, 182, 166],\n",
       "       [192, 179, 163],\n",
       "       [194, 181, 165],\n",
       "       [189, 176, 160],\n",
       "       [194, 181, 165],\n",
       "       [193, 180, 164],\n",
       "       [191, 179, 161],\n",
       "       [195, 183, 165],\n",
       "       [194, 183, 163],\n",
       "       [189, 178, 156],\n",
       "       [188, 177, 155],\n",
       "       [194, 180, 161],\n",
       "       [197, 183, 164],\n",
       "       [195, 181, 162],\n",
       "       [191, 177, 158],\n",
       "       [193, 179, 160],\n",
       "       [198, 184, 165],\n",
       "       [197, 183, 164],\n",
       "       [190, 176, 157],\n",
       "       [195, 184, 164],\n",
       "       [190, 179, 159],\n",
       "       [189, 180, 160],\n",
       "       [194, 185, 165],\n",
       "       [192, 185, 165],\n",
       "       [188, 181, 161],\n",
       "       [190, 183, 163],\n",
       "       [197, 190, 170],\n",
       "       [195, 184, 162],\n",
       "       [195, 184, 162],\n",
       "       [197, 186, 164],\n",
       "       [198, 187, 165],\n",
       "       [194, 183, 161],\n",
       "       [188, 177, 155],\n",
       "       [189, 178, 156],\n",
       "       [193, 182, 160],\n",
       "       [195, 184, 164],\n",
       "       [190, 179, 159],\n",
       "       [191, 180, 160],\n",
       "       [193, 182, 162],\n",
       "       [193, 182, 162],\n",
       "       [195, 184, 164],\n",
       "       [195, 184, 164],\n",
       "       [189, 178, 156],\n",
       "       [193, 179, 156],\n",
       "       [194, 181, 155],\n",
       "       [199, 187, 163],\n",
       "       [193, 183, 159],\n",
       "       [192, 181, 159],\n",
       "       [192, 184, 161],\n",
       "       [182, 175, 156],\n",
       "       [180, 173, 154],\n",
       "       [186, 179, 160],\n",
       "       [186, 179, 160],\n",
       "       [187, 180, 160],\n",
       "       [188, 181, 161],\n",
       "       [187, 179, 156],\n",
       "       [183, 175, 152],\n",
       "       [186, 176, 152],\n",
       "       [190, 180, 156],\n",
       "       [188, 180, 157],\n",
       "       [185, 177, 154],\n",
       "       [181, 172, 152],\n",
       "       [182, 173, 153],\n",
       "       [185, 176, 156],\n",
       "       [185, 176, 156],\n",
       "       [182, 172, 154],\n",
       "       [178, 168, 150],\n",
       "       [181, 174, 155],\n",
       "       [182, 175, 156],\n",
       "       [182, 175, 155],\n",
       "       [179, 172, 152],\n",
       "       [180, 173, 153],\n",
       "       [183, 176, 156],\n",
       "       [183, 177, 154],\n",
       "       [181, 175, 152],\n",
       "       [188, 181, 156],\n",
       "       [190, 183, 158],\n",
       "       [188, 181, 156],\n",
       "       [183, 176, 151],\n",
       "       [183, 176, 151],\n",
       "       [186, 179, 154],\n",
       "       [185, 180, 155],\n",
       "       [182, 177, 152],\n",
       "       [179, 174, 149],\n",
       "       [184, 179, 154],\n",
       "       [186, 182, 157],\n",
       "       [182, 178, 153],\n",
       "       [179, 175, 150],\n",
       "       [181, 177, 152],\n",
       "       [182, 178, 153],\n",
       "       [181, 176, 151],\n",
       "       [187, 180, 153],\n",
       "       [188, 179, 152],\n",
       "       [186, 179, 152],\n",
       "       [187, 180, 153],\n",
       "       [183, 179, 151],\n",
       "       [181, 177, 149],\n",
       "       [180, 177, 149],\n",
       "       [182, 179, 151],\n",
       "       [178, 177, 151],\n",
       "       [179, 178, 152],\n",
       "       [183, 179, 154],\n",
       "       [183, 179, 154],\n",
       "       [184, 179, 154],\n",
       "       [183, 178, 153],\n",
       "       [186, 179, 154],\n",
       "       [186, 179, 154],\n",
       "       [186, 181, 156],\n",
       "       [185, 180, 155],\n",
       "       [184, 179, 154],\n",
       "       [185, 180, 155],\n",
       "       [188, 184, 156],\n",
       "       [189, 185, 157],\n",
       "       [190, 183, 156],\n",
       "       [189, 182, 155],\n",
       "       [188, 182, 153],\n",
       "       [187, 181, 152],\n",
       "       [188, 180, 151],\n",
       "       [187, 179, 150],\n",
       "       [186, 178, 149],\n",
       "       [187, 179, 150],\n",
       "       [189, 181, 151],\n",
       "       [190, 182, 152],\n",
       "       [189, 181, 152],\n",
       "       [190, 182, 153],\n",
       "       [191, 183, 154],\n",
       "       [191, 183, 154],\n",
       "       [189, 183, 154],\n",
       "       [188, 182, 153],\n",
       "       [186, 180, 151],\n",
       "       [185, 179, 150],\n",
       "       [194, 188, 159],\n",
       "       [190, 184, 155],\n",
       "       [193, 185, 156],\n",
       "       [198, 190, 161],\n",
       "       [200, 189, 161],\n",
       "       [193, 182, 154],\n",
       "       [193, 181, 153],\n",
       "       [197, 186, 158],\n",
       "       [195, 184, 156],\n",
       "       [194, 186, 157],\n",
       "       [194, 186, 157],\n",
       "       [195, 187, 158],\n",
       "       [195, 187, 158],\n",
       "       [196, 188, 159],\n",
       "       [196, 188, 159],\n",
       "       [196, 188, 159],\n",
       "       [197, 189, 160],\n",
       "       [194, 186, 157],\n",
       "       [193, 185, 156],\n",
       "       [193, 185, 156],\n",
       "       [192, 184, 155],\n",
       "       [190, 182, 153],\n",
       "       [193, 185, 156],\n",
       "       [199, 191, 161],\n",
       "       [192, 183, 150],\n",
       "       [194, 185, 151],\n",
       "       [203, 194, 160],\n",
       "       [202, 193, 159],\n",
       "       [190, 181, 148],\n",
       "       [190, 181, 148],\n",
       "       [198, 187, 157],\n",
       "       [195, 184, 154],\n",
       "       [196, 185, 155],\n",
       "       [198, 187, 157]], dtype=uint8)"
      ]
     },
     "execution_count": 4,
     "metadata": {},
     "output_type": "execute_result"
    }
   ],
   "source": [
    "img[0]\n"
   ]
  },
  {
   "cell_type": "code",
   "execution_count": 5,
   "id": "ee737da5",
   "metadata": {},
   "outputs": [],
   "source": [
    "import matplotlib.pyplot as plt"
   ]
  },
  {
   "cell_type": "code",
   "execution_count": 6,
   "id": "2b637409",
   "metadata": {},
   "outputs": [
    {
     "data": {
      "text/plain": [
       "<matplotlib.image.AxesImage at 0x1894d7e5580>"
      ]
     },
     "execution_count": 6,
     "metadata": {},
     "output_type": "execute_result"
    },
    {
     "data": {
      "image/png": "[encoded data removed]",
      "text/plain": [
       "<Figure size 432x288 with 1 Axes>"
      ]
     },
     "metadata": {
      "needs_background": "light"
     },
     "output_type": "display_data"
    }
   ],
   "source": [
    "plt.imshow(img)"
   ]
  },
  {
   "cell_type": "code",
   "execution_count": 7,
   "id": "8f6da44b",
   "metadata": {},
   "outputs": [],
   "source": [
    "while True :\n",
    "    cv2.imshow('result',img)\n",
    "    if cv2.waitKey(2) == 27:    ##27 - ASCII Of Escape \n",
    "        break\n",
    "cv2.destroyAllWindows() "
   ]
  },
  {
   "cell_type": "code",
   "execution_count": 27,
   "id": "040e9f49",
   "metadata": {},
   "outputs": [],
   "source": [
    "import cv2\n",
    "location=('../Windows/Desktop/data.xml')\n",
    "haar_data = cv2.CascadeClassifier(location)"
   ]
  },
  {
   "cell_type": "code",
   "execution_count": 31,
   "id": "d980a291",
   "metadata": {},
   "outputs": [
    {
     "data": {
      "text/plain": [
       "array([[ 88,  82, 122, 122]])"
      ]
     },
     "execution_count": 31,
     "metadata": {},
     "output_type": "execute_result"
    }
   ],
   "source": [
    "haar_data.detectMultiScale(img)"
   ]
  },
  {
   "cell_type": "code",
   "execution_count": null,
   "id": "ee9f1ba9",
   "metadata": {},
   "outputs": [],
   "source": [
    "##cv2.rectangle(img,(x,y),(w,h),(b,g,r),border_thickness)"
   ]
  },
  {
   "cell_type": "code",
   "execution_count": 35,
   "id": "a0fd6e1c",
   "metadata": {},
   "outputs": [],
   "source": [
    "while True :\n",
    "    faces = haar_data.detectMultiScale(img)\n",
    "    for x,y,w,h in faces:\n",
    "        cv2.rectangle(img, (x,y), (x+w, y+h), (255,0,255), 4)\n",
    "    cv2.imshow('result',img)\n",
    "    if cv2.waitKey(2) == 27:   ##27 - ASCII Of Escape \n",
    "        break\n",
    "cv2.destroyAllWindows() "
   ]
  },
  {
   "cell_type": "code",
   "execution_count": null,
   "id": "b71536b9",
   "metadata": {},
   "outputs": [],
   "source": [
    "\n"
   ]
  },
  {
   "cell_type": "code",
   "execution_count": 62,
   "id": "6a64ddcd",
   "metadata": {},
   "outputs": [
    {
     "name": "stdout",
     "output_type": "stream",
     "text": [
      "0\n",
      "1\n",
      "2\n",
      "3\n",
      "4\n",
      "5\n",
      "6\n",
      "7\n",
      "8\n",
      "9\n",
      "10\n",
      "11\n",
      "12\n",
      "13\n",
      "14\n",
      "15\n",
      "16\n",
      "17\n",
      "18\n",
      "19\n",
      "20\n",
      "21\n",
      "22\n",
      "23\n",
      "24\n",
      "25\n",
      "26\n",
      "27\n",
      "28\n",
      "29\n",
      "30\n",
      "31\n",
      "32\n",
      "33\n",
      "34\n",
      "35\n",
      "36\n",
      "37\n",
      "38\n",
      "39\n",
      "40\n",
      "41\n",
      "42\n",
      "43\n",
      "44\n",
      "45\n",
      "46\n",
      "47\n",
      "48\n",
      "49\n",
      "50\n",
      "51\n",
      "52\n",
      "53\n",
      "54\n",
      "55\n",
      "56\n",
      "57\n",
      "58\n",
      "59\n",
      "60\n",
      "61\n",
      "62\n",
      "63\n",
      "64\n",
      "65\n",
      "66\n",
      "67\n",
      "68\n",
      "69\n",
      "70\n",
      "71\n",
      "72\n",
      "73\n",
      "74\n",
      "75\n",
      "76\n",
      "77\n",
      "78\n",
      "79\n",
      "80\n",
      "81\n",
      "82\n",
      "83\n",
      "84\n",
      "85\n",
      "86\n",
      "87\n",
      "88\n",
      "89\n",
      "90\n",
      "91\n",
      "92\n",
      "93\n",
      "94\n",
      "95\n",
      "96\n",
      "97\n",
      "98\n",
      "99\n",
      "100\n",
      "101\n",
      "102\n",
      "103\n",
      "104\n",
      "105\n",
      "106\n",
      "107\n",
      "108\n",
      "109\n",
      "110\n",
      "111\n",
      "112\n",
      "113\n",
      "114\n",
      "115\n",
      "116\n",
      "117\n",
      "118\n",
      "119\n",
      "120\n",
      "121\n",
      "122\n",
      "123\n",
      "124\n",
      "125\n",
      "126\n",
      "127\n",
      "128\n",
      "129\n",
      "130\n",
      "131\n",
      "132\n",
      "133\n",
      "134\n",
      "135\n",
      "136\n",
      "137\n",
      "138\n",
      "139\n",
      "140\n",
      "141\n",
      "142\n",
      "143\n",
      "144\n",
      "145\n",
      "146\n",
      "147\n",
      "148\n",
      "149\n",
      "150\n",
      "151\n",
      "152\n",
      "153\n",
      "154\n",
      "155\n",
      "156\n",
      "157\n",
      "158\n",
      "159\n",
      "160\n",
      "161\n",
      "162\n",
      "163\n",
      "164\n",
      "165\n",
      "166\n",
      "167\n",
      "168\n",
      "169\n",
      "170\n",
      "171\n",
      "172\n",
      "173\n",
      "174\n",
      "175\n",
      "176\n",
      "177\n",
      "178\n",
      "179\n",
      "180\n",
      "181\n",
      "182\n",
      "183\n",
      "184\n",
      "185\n",
      "186\n",
      "187\n",
      "188\n",
      "189\n",
      "190\n",
      "191\n",
      "192\n",
      "193\n",
      "194\n",
      "195\n",
      "196\n",
      "197\n",
      "198\n",
      "199\n"
     ]
    }
   ],
   "source": [
    "import cv2\n",
    "\n",
    "capture = cv2.VideoCapture(0)\n",
    "data = []\n",
    "while True :\n",
    "    flag , img = capture.read()\n",
    "    if flag :\n",
    "        faces = haar_data.detectMultiScale(img)\n",
    "        for x,y,w,h in faces:\n",
    "            cv2.rectangle(img,(x,y),(x+w,y+h),(255,0,255),4)\n",
    "            face=img[y:y+h,x:x+w,  :]\n",
    "            face=cv2.resize(face , (50,50))\n",
    "            print(len(data))\n",
    "            if len(data)< 400:\n",
    "                 data.append(face)\n",
    "        cv2.imshow('result',img)\n",
    "        if cv2.waitKey(2)== 27 or len(data) >= 200:    ##27 - ASCII Of Escape \n",
    "            break\n",
    "        \n",
    "capture.release ()\n",
    "cv2.destroyAllWindows()"
   ]
  },
  {
   "cell_type": "code",
   "execution_count": 40,
   "id": "03b1d506",
   "metadata": {},
   "outputs": [],
   "source": [
    "import numpy as np\n"
   ]
  },
  {
   "cell_type": "code",
   "execution_count": 41,
   "id": "e33e2d04",
   "metadata": {},
   "outputs": [],
   "source": [
    "x = np.array([3,2,54,6])"
   ]
  },
  {
   "cell_type": "code",
   "execution_count": 42,
   "id": "906a667c",
   "metadata": {},
   "outputs": [
    {
     "data": {
      "text/plain": [
       "array([ 3,  2, 54,  6])"
      ]
     },
     "execution_count": 42,
     "metadata": {},
     "output_type": "execute_result"
    }
   ],
   "source": [
    "x"
   ]
  },
  {
   "cell_type": "code",
   "execution_count": 43,
   "id": "1fabc843",
   "metadata": {},
   "outputs": [
    {
     "data": {
      "text/plain": [
       "array([3, 2])"
      ]
     },
     "execution_count": 43,
     "metadata": {},
     "output_type": "execute_result"
    }
   ],
   "source": [
    "x[0:2]"
   ]
  },
  {
   "cell_type": "code",
   "execution_count": 44,
   "id": "d1794fb8",
   "metadata": {},
   "outputs": [],
   "source": [
    "x = np.array([[3,4,54,67,8,8],[1,2,2,4,5,7],[4,5,3,5,6,7],[1,2,3,34,6,8]])"
   ]
  },
  {
   "cell_type": "code",
   "execution_count": 45,
   "id": "9f7c10eb",
   "metadata": {},
   "outputs": [
    {
     "data": {
      "text/plain": [
       "array([[ 3,  4, 54, 67,  8,  8],\n",
       "       [ 1,  2,  2,  4,  5,  7],\n",
       "       [ 4,  5,  3,  5,  6,  7],\n",
       "       [ 1,  2,  3, 34,  6,  8]])"
      ]
     },
     "execution_count": 45,
     "metadata": {},
     "output_type": "execute_result"
    }
   ],
   "source": [
    "x"
   ]
  },
  {
   "cell_type": "code",
   "execution_count": 46,
   "id": "1cb45838",
   "metadata": {},
   "outputs": [
    {
     "data": {
      "text/plain": [
       "array([ 3,  4, 54, 67,  8,  8])"
      ]
     },
     "execution_count": 46,
     "metadata": {},
     "output_type": "execute_result"
    }
   ],
   "source": [
    "x[0]"
   ]
  },
  {
   "cell_type": "code",
   "execution_count": 47,
   "id": "8015c834",
   "metadata": {},
   "outputs": [
    {
     "data": {
      "text/plain": [
       "array([ 4, 54, 67])"
      ]
     },
     "execution_count": 47,
     "metadata": {},
     "output_type": "execute_result"
    }
   ],
   "source": [
    "x[0][1:4]"
   ]
  },
  {
   "cell_type": "code",
   "execution_count": 48,
   "id": "18252850",
   "metadata": {},
   "outputs": [
    {
     "data": {
      "text/plain": [
       "array([[ 3,  4, 54],\n",
       "       [ 1,  2,  2],\n",
       "       [ 4,  5,  3]])"
      ]
     },
     "execution_count": 48,
     "metadata": {},
     "output_type": "execute_result"
    }
   ],
   "source": [
    "#x[roq,col]\n",
    "x[0:3,0:3]"
   ]
  },
  {
   "cell_type": "code",
   "execution_count": 49,
   "id": "41f4fbf6",
   "metadata": {},
   "outputs": [
    {
     "data": {
      "text/plain": [
       "array([[ 4, 54, 67],\n",
       "       [ 2,  2,  4],\n",
       "       [ 5,  3,  5],\n",
       "       [ 2,  3, 34]])"
      ]
     },
     "execution_count": 49,
     "metadata": {},
     "output_type": "execute_result"
    }
   ],
   "source": [
    "x[:,1:4]"
   ]
  },
  {
   "cell_type": "code",
   "execution_count": null,
   "id": "26ffbbd2",
   "metadata": {},
   "outputs": [],
   "source": []
  },
  {
   "cell_type": "code",
   "execution_count": 52,
   "id": "8195925f",
   "metadata": {},
   "outputs": [],
   "source": [
    "np.save('without_mask.npy',data)"
   ]
  },
  {
   "cell_type": "code",
   "execution_count": 57,
   "id": "55cc1999",
   "metadata": {},
   "outputs": [],
   "source": [
    "np.save('with_mask.npy' ,data)"
   ]
  },
  {
   "cell_type": "code",
   "execution_count": 63,
   "id": "0d44c6ae",
   "metadata": {},
   "outputs": [
    {
     "data": {
      "text/plain": [
       "<matplotlib.image.AxesImage at 0x18956d70c40>"
      ]
     },
     "execution_count": 63,
     "metadata": {},
     "output_type": "execute_result"
    },
    {
     "data": {
      "image/png": "[encoded data removed]",
      "text/plain": [
       "<Figure size 432x288 with 1 Axes>"
      ]
     },
     "metadata": {
      "needs_background": "light"
     },
     "output_type": "display_data"
    }
   ],
   "source": [
    "plt.imshow(data[0])"
   ]
  },
  {
   "cell_type": "code",
   "execution_count": null,
   "id": "f85392e3",
   "metadata": {},
   "outputs": [],
   "source": []
  }
 ],
 "metadata": {
  "kernelspec": {
   "display_name": "Python 3",
   "language": "python",
   "name": "python3"
  },
  "language_info": {
   "codemirror_mode": {
    "name": "ipython",
    "version": 3
   },
   "file_extension": ".py",
   "mimetype": "text/x-python",
   "name": "python",
   "nbconvert_exporter": "python",
   "pygments_lexer": "ipython3",
   "version": "3.8.8"
  }
 },
 "nbformat": 4,
 "nbformat_minor": 5
}
